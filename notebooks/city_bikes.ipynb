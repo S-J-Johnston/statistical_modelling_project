{
 "cells": [
  {
   "cell_type": "markdown",
   "metadata": {},
   "source": [
    "# CityBikes"
   ]
  },
  {
   "cell_type": "markdown",
   "metadata": {},
   "source": [
    "Send a request to CityBikes for the city of your choice. "
   ]
  },
  {
   "cell_type": "code",
   "execution_count": 4,
   "metadata": {},
   "outputs": [
    {
     "ename": "SyntaxError",
     "evalue": "invalid syntax (1765464152.py, line 1)",
     "output_type": "error",
     "traceback": [
      "\u001b[0;36m  Cell \u001b[0;32mIn[4], line 1\u001b[0;36m\u001b[0m\n\u001b[0;31m    pip install requests\u001b[0m\n\u001b[0m        ^\u001b[0m\n\u001b[0;31mSyntaxError\u001b[0m\u001b[0;31m:\u001b[0m invalid syntax\n"
     ]
    }
   ],
   "source": [
    "import requests\n",
    "import os\n",
    "\n",
    "#Define network of interest\n",
    "network_id = \"dublinbikes\"\n",
    "\n",
    "#Concat API url and network_id\n",
    "url = \"http://api.citybik.es/v2/networks/\" + network_id\n",
    "\n",
    "#call api, convert to json\n",
    "result = requests.get(url)\n",
    "type(result)\n",
    "dublin_bikes = result.json()"
   ]
  },
  {
   "cell_type": "markdown",
   "metadata": {},
   "source": [
    "Parse through the response to get the details you want for the bike stations in that city (latitude, longitude, number of bikes). "
   ]
  },
  {
   "cell_type": "code",
   "execution_count": null,
   "metadata": {},
   "outputs": [],
   "source": [
    "# explore json, navigate through structure to key containing fields of interest: 'stations'\n",
    "dublin_bikes.keys()\n",
    "dublin_bikes['network']\n",
    "type(dublin_bikes['network'])\n",
    "network = dublin_bikes['network']\n",
    "network.keys()\n",
    "\n",
    "#normalize 'network' on 'stations' to create dataframe\n",
    "bike_stations = pd.json_normalize(network, record_path='stations')"
   ]
  },
  {
   "cell_type": "markdown",
   "metadata": {},
   "source": [
    "Put your parsed results into a DataFrame."
   ]
  },
  {
   "cell_type": "code",
   "execution_count": null,
   "metadata": {},
   "outputs": [],
   "source": [
    "bike_stations = pd.json_normalize(network, record_path='stations')\n",
    "\n",
    "#drop unrequired and redunant columns\n",
    "bike_stations = bike_stations.drop(columns=['extra.banking', 'extra.bonus', 'extra.address', 'extra.last_update', 'extra.status', 'extra.uid'])\n",
    "\n",
    "#rename for clarity\n",
    "bike_stations = bike_stations.rename(columns={'extra.slots':'total_slots'})\n",
    "bike_stations.head()"
   ]
  }
 ],
 "metadata": {
  "kernelspec": {
   "display_name": "Python 3.9.6 64-bit",
   "language": "python",
   "name": "python3"
  },
  "language_info": {
   "codemirror_mode": {
    "name": "ipython",
    "version": 3
   },
   "file_extension": ".py",
   "mimetype": "text/x-python",
   "name": "python",
   "nbconvert_exporter": "python",
   "pygments_lexer": "ipython3",
   "version": "3.9.6"
  },
  "vscode": {
   "interpreter": {
    "hash": "31f2aee4e71d21fbe5cf8b01ff0e069b9275f58929596ceb00d14d90e3e16cd6"
   }
  }
 },
 "nbformat": 4,
 "nbformat_minor": 4
}
