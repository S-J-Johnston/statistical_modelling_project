{
 "cells": [
  {
   "cell_type": "markdown",
   "metadata": {},
   "source": [
    "Join the data from Part 1 with the data from Part 2 to create a new dataframe."
   ]
  },
  {
   "cell_type": "code",
   "execution_count": null,
   "metadata": {},
   "outputs": [],
   "source": [
    "#merge of summary tables from EDA\n",
    "bike_station_summary_df = bike_stations.merge(yelp_summary_df, how='left', on='gps_ref')\n",
    "bike_station_summary_df = bike_station_summary_df.merge(FSQ_summary_df, how='left', on='gps_ref')"
   ]
  },
  {
   "cell_type": "markdown",
   "metadata": {},
   "source": [
    "Provide a visualization that you used as part of your EDA process. Explain the initial pattern or relationship you discoved through this visualization. "
   ]
  },
  {
   "cell_type": "markdown",
   "metadata": {},
   "source": [
    "The code below was used to see if there was an correlation between the number of pubs and cafes from either API and the size of a given bike station. There was a weak negative correlation observed, ranging from -0.2 to -0.3. Meaning that we would expect slightly fewer pubs or cafes if there were a large bike station in the vicinity. "
   ]
  },
  {
   "cell_type": "code",
   "execution_count": null,
   "metadata": {},
   "outputs": [],
   "source": [
    "api_summary_stats = bike_station_summary_df[['total_slots', 'FSQ_pub_count', 'FSQ_cafe_count', 'yelp_pub_count', 'yelp_cafe_count']]\n",
    "api_summary_stats_cor = api_summary_stats.corr()\n",
    "sns.heatmap(api_summary_stats_cor)\n",
    "api_summary_stats_cor"
   ]
  },
  {
   "cell_type": "markdown",
   "metadata": {},
   "source": [
    "![Alt text](../corr_FSQ_Total_Slots.png)"
   ]
  },
  {
   "cell_type": "markdown",
   "metadata": {},
   "source": [
    "# Database"
   ]
  },
  {
   "cell_type": "markdown",
   "metadata": {},
   "source": [
    "Put all your results in an SQLite3 database (remember, SQLite stores its databases as files in your local machine - make sure to create your database in your project's data/ directory!)"
   ]
  },
  {
   "cell_type": "code",
   "execution_count": null,
   "metadata": {},
   "outputs": [],
   "source": [
    "from sqlalchemy import create_engine\n",
    "\n",
    "engine = create_engine('sqlite:///bike_station_summary.db', echo=True)\n",
    "sqlite_connection = engine.connect()\n",
    "sqlite_table = \"summary\"\n",
    "bike_station_summary_df.to_sql(sqlite_table, sqlite_connection, if_exists='fail')\n",
    "\n",
    "sqlite_connection.close()"
   ]
  },
  {
   "cell_type": "markdown",
   "metadata": {},
   "source": [
    "Look at the data before and after the join to validate your data."
   ]
  },
  {
   "cell_type": "code",
   "execution_count": null,
   "metadata": {},
   "outputs": [],
   "source": []
  }
 ],
 "metadata": {
  "kernelspec": {
   "display_name": "Python 3.9.6 64-bit",
   "language": "python",
   "name": "python3"
  },
  "language_info": {
   "codemirror_mode": {
    "name": "ipython",
    "version": 3
   },
   "file_extension": ".py",
   "mimetype": "text/x-python",
   "name": "python",
   "nbconvert_exporter": "python",
   "pygments_lexer": "ipython3",
   "version": "3.9.6"
  },
  "vscode": {
   "interpreter": {
    "hash": "31f2aee4e71d21fbe5cf8b01ff0e069b9275f58929596ceb00d14d90e3e16cd6"
   }
  }
 },
 "nbformat": 4,
 "nbformat_minor": 4
}
