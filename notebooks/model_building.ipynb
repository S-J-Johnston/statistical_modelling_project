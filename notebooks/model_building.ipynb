{
 "cells": [
  {
   "cell_type": "markdown",
   "metadata": {},
   "source": [
    "Build a regression model."
   ]
  },
  {
   "cell_type": "code",
   "execution_count": null,
   "metadata": {},
   "outputs": [],
   "source": [
    "#Phase 1: Including pub count, cafe count and their sum versus the size of a bike station\n",
    "import statsmodels.api as sm\n",
    "\n",
    "bike_station_summary_df['FSQ_total_POI'] = bike_station_summary_df['FSQ_pub_count'] + bike_station_summary_df['FSQ_cafe_count']\n",
    "\n",
    "y = bike_station_summary_df[['total_slots']]\n",
    "X = bike_station_summary_df[['FSQ_total_POI', 'FSQ_pub_count', 'FSQ_cafe_count']]\n",
    "\n",
    "X = sm.add_constant(X) # adding a constant\n",
    "lin_reg = sm.OLS(y,X)\n",
    "\n",
    "model = lin_reg.fit()\n",
    "print_model = model.summary()\n",
    "print(print_model)"
   ]
  },
  {
   "cell_type": "code",
   "execution_count": null,
   "metadata": {},
   "outputs": [],
   "source": [
    "#Phase 2: The sum of cafe and pub counts versus the size of a bike station.\n",
    "\n",
    "import statsmodels.api as sm\n",
    "\n",
    "bike_station_summary_df['FSQ_total_POI'] = bike_station_summary_df['FSQ_pub_count'] + bike_station_summary_df['FSQ_cafe_count']\n",
    "\n",
    "y = bike_station_summary_df[['total_slots']]\n",
    "X = bike_station_summary_df[['FSQ_total_POI']]\n",
    "\n",
    "X = sm.add_constant(X) # adding a constant\n",
    "lin_reg = sm.OLS(y,X)\n",
    "\n",
    "model = lin_reg.fit()\n",
    "print_model = model.summary()\n",
    "print(print_model)"
   ]
  },
  {
   "cell_type": "markdown",
   "metadata": {},
   "source": [
    "Provide model output and an interpretation of the results. "
   ]
  },
  {
   "cell_type": "markdown",
   "metadata": {},
   "source": [
    "Phase 2 from the above yielded an R^2 of 0.09 and a p value of 0.001. While the number of cafes and pubs looks to be statistically significent for predicting the size of a bike station it can only account for 10% of the overall variation. From this we can conclude that it is ultimately a poor predictor of station size. "
   ]
  },
  {
   "cell_type": "markdown",
   "metadata": {},
   "source": [
    "![Alt text](../linear_reg_total_slots.png)"
   ]
  },
  {
   "cell_type": "markdown",
   "metadata": {},
   "source": [
    "# Stretch"
   ]
  },
  {
   "cell_type": "markdown",
   "metadata": {},
   "source": [
    "How can you turn the regression model into a classification model?"
   ]
  },
  {
   "cell_type": "code",
   "execution_count": null,
   "metadata": {},
   "outputs": [],
   "source": []
  }
 ],
 "metadata": {
  "kernelspec": {
   "display_name": "Python 3.9.6 64-bit",
   "language": "python",
   "name": "python3"
  },
  "language_info": {
   "codemirror_mode": {
    "name": "ipython",
    "version": 3
   },
   "file_extension": ".py",
   "mimetype": "text/x-python",
   "name": "python",
   "nbconvert_exporter": "python",
   "pygments_lexer": "ipython3",
   "version": "3.9.6"
  },
  "vscode": {
   "interpreter": {
    "hash": "31f2aee4e71d21fbe5cf8b01ff0e069b9275f58929596ceb00d14d90e3e16cd6"
   }
  }
 },
 "nbformat": 4,
 "nbformat_minor": 4
}
