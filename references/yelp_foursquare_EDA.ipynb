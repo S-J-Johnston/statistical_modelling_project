{
 "cells": [
  {
   "cell_type": "markdown",
   "metadata": {},
   "source": [
    "# W3P2 - PART3 - yelp_foursquareEDA\n",
    "\n",
    "assignment file part 2"
   ]
  },
  {
   "cell_type": "code",
   "execution_count": 1,
   "metadata": {},
   "outputs": [],
   "source": [
    "from datetime import datetime\n",
    "import pandas as pd\n",
    "import requests\n",
    "import json\n",
    "import os"
   ]
  },
  {
   "cell_type": "markdown",
   "metadata": {},
   "source": [
    "# Foursquare"
   ]
  },
  {
   "cell_type": "markdown",
   "metadata": {},
   "source": [
    "Send a request to Foursquare with a small radius (1000m) for all the bike stations in your city of choice. Assuming the average comfortable walking speed below, the radius of 1km should list sites available within a 15min walking distance from each bike station.\n",
    "\n",
    "$$\n",
    "1km * hour/4km \n",
    "$$"
   ]
  },
  {
   "cell_type": "code",
   "execution_count": 2,
   "metadata": {},
   "outputs": [
    {
     "data": {
      "text/plain": [
       "(655, 19)"
      ]
     },
     "execution_count": 2,
     "metadata": {},
     "output_type": "execute_result"
    }
   ],
   "source": [
    "# Import data from file\n",
    "df = pd.read_csv('../data/df_ctybks_toronto.csv')\n",
    "df.shape"
   ]
  },
  {
   "cell_type": "markdown",
   "metadata": {},
   "source": [
    "Create lat and long series from the ctyBks table:"
   ]
  },
  {
   "cell_type": "code",
   "execution_count": 3,
   "metadata": {},
   "outputs": [
    {
     "name": "stdout",
     "output_type": "stream",
     "text": [
      "43.657763,-79.389165\n"
     ]
    }
   ],
   "source": [
    "lat = df['latitude']\n",
    "long = df['longitude']\n",
    "print(f'{lat[5]},{long[5]}')"
   ]
  },
  {
   "cell_type": "code",
   "execution_count": 4,
   "metadata": {},
   "outputs": [],
   "source": [
    "numStns = len(lat)"
   ]
  },
  {
   "cell_type": "code",
   "execution_count": 5,
   "metadata": {},
   "outputs": [],
   "source": [
    "def fsqStationPOI(lat, long):\n",
    "  '''\n",
    "  input:\n",
    "  output:\n",
    "  '''\n",
    "  api_key = os.environ[\"FOURSQUARE_API_KEY\"]\n",
    "  fields = 'fsq_id,name,geocodes,categories,distance,rating,hours,hours_popular,popularity,features'\n",
    "\n",
    "  headers = {\n",
    "      \"accept\": \"application/json\",\n",
    "      \"Authorization\": api_key\n",
    "  }\n",
    "\n",
    "  fsq_url = (f'https://api.foursquare.com/v3/places/search?ll={lat},{long}&fields={fields}&radius=1000&&limit=50')\n",
    "  \n",
    "  fsqStnPOI_json = requests.get(fsq_url, headers=headers).json()\n",
    "\n",
    "  list_of_dict = []\n",
    "  for poi in fsqStnPOI_json['results']:\n",
    "    categories = poi.get('categories', None)\n",
    "    cat_id = categories[0]['id'] if len(categories) > 0 else None\n",
    "    category_name = categories[0]['name'] if len(categories) > 0 else None\n",
    "\n",
    "    poi_dict = {\n",
    "            'lat-long': f'{lat},{long}'\n",
    "          , 'fsq_id': poi['fsq_id']\n",
    "          , 'cat_id': cat_id\n",
    "          , 'category_name': category_name\n",
    "          , 'categories': categories\n",
    "          , 'name': poi.get('name', None)\n",
    "          , 'distance': poi.get('distance', None)\n",
    "          , 'latitude': poi.get('geocodes', {}).get('main', {}).get('latitude', None)\n",
    "          , 'longitude': poi.get('geocodes', {}).get('main', {}).get('longitude', None)\n",
    "          , 'address': poi.get('location', {}).get('formatted_address', None)\n",
    "          , 'popularity': poi.get('popularity', None)\n",
    "          , 'open_now': poi.get('hours', {}).get('open_now', None)\n",
    "          , 'rating': poi.get('rating', None)\n",
    "          , 'rating_count': poi.get('stats', {}).get('total_ratings', None)\n",
    "          , 'my_timestamp': datetime.now()\n",
    "      }\n",
    "      \n",
    "    list_of_dict.append(poi_dict)\n",
    "  return pd.DataFrame(list_of_dict)\n"
   ]
  },
  {
   "cell_type": "code",
   "execution_count": 6,
   "metadata": {},
   "outputs": [],
   "source": [
    "# datetime.astimezone(tz=pytz.timezone('America/Toronto'))"
   ]
  },
  {
   "cell_type": "code",
   "execution_count": 7,
   "metadata": {},
   "outputs": [],
   "source": [
    "# I guess I'll figure out how to convert it later..\n",
    "\n",
    "# utc = '2022-12-03T18:32:24.600000Z'\n",
    "# date = datetime.strptime(utc, '%Y-%m-%dT%H:%M:%S.%fZ')\n",
    "# converted = date.astimezone(tz=pytz.timezone('America/Toronto'))\n",
    "\n",
    "# print(converted)"
   ]
  },
  {
   "cell_type": "code",
   "execution_count": 8,
   "metadata": {},
   "outputs": [
    {
     "name": "stdout",
     "output_type": "stream",
     "text": [
      "43.657763,-79.389165\n"
     ]
    }
   ],
   "source": [
    "print(f'{lat[5]},{long[5]}')"
   ]
  },
  {
   "cell_type": "code",
   "execution_count": 9,
   "metadata": {},
   "outputs": [
    {
     "data": {
      "text/html": [
       "<div>\n",
       "<style scoped>\n",
       "    .dataframe tbody tr th:only-of-type {\n",
       "        vertical-align: middle;\n",
       "    }\n",
       "\n",
       "    .dataframe tbody tr th {\n",
       "        vertical-align: top;\n",
       "    }\n",
       "\n",
       "    .dataframe thead th {\n",
       "        text-align: right;\n",
       "    }\n",
       "</style>\n",
       "<table border=\"1\" class=\"dataframe\">\n",
       "  <thead>\n",
       "    <tr style=\"text-align: right;\">\n",
       "      <th></th>\n",
       "      <th>lat-long</th>\n",
       "      <th>fsq_id</th>\n",
       "      <th>cat_id</th>\n",
       "      <th>category_name</th>\n",
       "      <th>categories</th>\n",
       "      <th>name</th>\n",
       "      <th>distance</th>\n",
       "      <th>latitude</th>\n",
       "      <th>longitude</th>\n",
       "      <th>address</th>\n",
       "      <th>popularity</th>\n",
       "      <th>open_now</th>\n",
       "      <th>rating</th>\n",
       "      <th>rating_count</th>\n",
       "      <th>my_timestamp</th>\n",
       "    </tr>\n",
       "  </thead>\n",
       "  <tbody>\n",
       "    <tr>\n",
       "      <th>0</th>\n",
       "      <td>43.657763,-79.389165</td>\n",
       "      <td>537d4d6d498ec171ba22e7fe</td>\n",
       "      <td>13034</td>\n",
       "      <td>Café</td>\n",
       "      <td>[{'id': 13034, 'name': 'Café', 'icon': {'prefi...</td>\n",
       "      <td>Jimmy's Coffee</td>\n",
       "      <td>294</td>\n",
       "      <td>43.658525</td>\n",
       "      <td>-79.385436</td>\n",
       "      <td>None</td>\n",
       "      <td>0.972089</td>\n",
       "      <td>False</td>\n",
       "      <td>8.5</td>\n",
       "      <td>None</td>\n",
       "      <td>2022-12-03 19:38:44.660853</td>\n",
       "    </tr>\n",
       "  </tbody>\n",
       "</table>\n",
       "</div>"
      ],
      "text/plain": [
       "               lat-long                    fsq_id  cat_id category_name  \\\n",
       "0  43.657763,-79.389165  537d4d6d498ec171ba22e7fe   13034          Café   \n",
       "\n",
       "                                          categories            name  \\\n",
       "0  [{'id': 13034, 'name': 'Café', 'icon': {'prefi...  Jimmy's Coffee   \n",
       "\n",
       "   distance   latitude  longitude address  popularity  open_now  rating  \\\n",
       "0       294  43.658525 -79.385436    None    0.972089     False     8.5   \n",
       "\n",
       "  rating_count               my_timestamp  \n",
       "0         None 2022-12-03 19:38:44.660853  "
      ]
     },
     "execution_count": 9,
     "metadata": {},
     "output_type": "execute_result"
    }
   ],
   "source": [
    "# Test\n",
    "fsqStnPOI_df = fsqStationPOI(lat[5], long[5])\n",
    "fsqStnPOI_df.head(1)"
   ]
  },
  {
   "cell_type": "markdown",
   "metadata": {},
   "source": [
    "Generate a list of DataFrames now for each station site:"
   ]
  },
  {
   "cell_type": "code",
   "execution_count": 10,
   "metadata": {},
   "outputs": [],
   "source": [
    "fsq_dfs_list = []\n",
    "for i in range(numStns):\n",
    "  poi_df = fsqStationPOI(lat[i], long[i])\n",
    "  fsq_dfs_list.append(poi_df)"
   ]
  },
  {
   "cell_type": "markdown",
   "metadata": {},
   "source": [
    "Concatenate the DataFrames to create one large one."
   ]
  },
  {
   "cell_type": "code",
   "execution_count": 11,
   "metadata": {},
   "outputs": [],
   "source": [
    "df_fsq = x = pd.DataFrame()\n",
    "x = x = pd.DataFrame()\n",
    "\n",
    "# concatenate full df object of all stn site data:\n",
    "for poi_df in fsq_dfs_list:\n",
    "    x = pd.concat([df_fsq, poi_df])\n",
    "    df_fsq = x"
   ]
  },
  {
   "cell_type": "code",
   "execution_count": 14,
   "metadata": {},
   "outputs": [
    {
     "data": {
      "text/plain": [
       "(32709, 15)"
      ]
     },
     "execution_count": 14,
     "metadata": {},
     "output_type": "execute_result"
    }
   ],
   "source": [
    "df_fsq.shape"
   ]
  },
  {
   "cell_type": "code",
   "execution_count": 13,
   "metadata": {},
   "outputs": [],
   "source": [
    "df_fsq.to_csv(f'../data/fsqPOI/df_fsq{datetime.now()}.csv', index=False)"
   ]
  },
  {
   "cell_type": "markdown",
   "metadata": {},
   "source": [
    "Parse through the response to get the POI (such as restaurants, bars, etc) details you want (ratings, name, location, etc)"
   ]
  },
  {
   "cell_type": "code",
   "execution_count": null,
   "metadata": {},
   "outputs": [],
   "source": []
  },
  {
   "cell_type": "markdown",
   "metadata": {},
   "source": [
    "Put your parsed results into a DataFrame"
   ]
  },
  {
   "cell_type": "code",
   "execution_count": null,
   "metadata": {},
   "outputs": [],
   "source": []
  },
  {
   "cell_type": "markdown",
   "metadata": {},
   "source": [
    "# Yelp"
   ]
  },
  {
   "cell_type": "markdown",
   "metadata": {},
   "source": [
    "Send a request to Yelp with a small radius (1000m) for all the bike stations in your city of choice. "
   ]
  },
  {
   "cell_type": "code",
   "execution_count": null,
   "metadata": {},
   "outputs": [],
   "source": []
  },
  {
   "cell_type": "markdown",
   "metadata": {},
   "source": [
    "Parse through the response to get the POI (such as restaurants, bars, etc) details you want (ratings, name, location, etc)"
   ]
  },
  {
   "cell_type": "code",
   "execution_count": null,
   "metadata": {},
   "outputs": [],
   "source": []
  },
  {
   "cell_type": "markdown",
   "metadata": {},
   "source": [
    "Put your parsed results into a DataFrame"
   ]
  },
  {
   "cell_type": "markdown",
   "metadata": {},
   "source": []
  },
  {
   "cell_type": "markdown",
   "metadata": {},
   "source": [
    "# Comparing Results"
   ]
  },
  {
   "cell_type": "markdown",
   "metadata": {},
   "source": [
    "Which API provided you with more complete data? Provide an explanation. "
   ]
  },
  {
   "cell_type": "markdown",
   "metadata": {},
   "source": []
  },
  {
   "cell_type": "markdown",
   "metadata": {},
   "source": [
    "Get the top 10 restaurants according to their rating"
   ]
  },
  {
   "cell_type": "code",
   "execution_count": null,
   "metadata": {},
   "outputs": [],
   "source": []
  }
 ],
 "metadata": {
  "kernelspec": {
   "display_name": "Python 3 (ipykernel)",
   "language": "python",
   "name": "python3"
  },
  "language_info": {
   "codemirror_mode": {
    "name": "ipython",
    "version": 3
   },
   "file_extension": ".py",
   "mimetype": "text/x-python",
   "name": "python",
   "nbconvert_exporter": "python",
   "pygments_lexer": "ipython3",
   "version": "3.9.12"
  },
  "vscode": {
   "interpreter": {
    "hash": "39512f3c2a1741d7f752d45a133d4514127029333ea14bc2f3c6c5e6759b9029"
   }
  }
 },
 "nbformat": 4,
 "nbformat_minor": 4
}
