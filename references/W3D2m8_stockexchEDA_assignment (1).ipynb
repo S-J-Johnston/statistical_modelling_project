{
 "cells": [
  {
   "cell_type": "markdown",
   "metadata": {},
   "source": [
    "# W2D2m8 - Performing EDA \n",
    "# W2D4m12 - [Model Building](https://data.compass.lighthouselabs.ca/days/w03d4/activities/2215) \n",
    "# W2D5m4 - [Model Evaluation](https://data.compass.lighthouselabs.ca/days/w03d5/activities/2220) \n",
    "----\n",
    "In this activity, you will be putting together everything we have learned so far about EDA.\n",
    "\n",
    "This [resource by nbviewer](https://nbviewer.org/github/Tanu-N-Prabhu/Python/blob/master/Exploratory_data_Analysis.ipynb) is a great example of how you would perform your exploratory data analysis (EDA). Take some time to review it before jumping into the steps below.\n",
    "\n",
    "## Step 1: Download the Data\n",
    "Download this [zipped folder](https://drive.google.com/file/d/1H743YlnjsPXrobVFQ5nUiSbFwoxCU2qD/view), which contains a collection of JSON files.\n",
    "\n",
    "## Step 2: Load the Data Files\n",
    "As you may have noticed, the JSON files have a lot of information. What we decide to include in our dataframe should be informed by the questions we want to answer.\n",
    "\n",
    "Consider all the companies listed on the NASDAQ in the folder for the year 2020. We are interested in finding out answers to the following questions:"
   ]
  },
  {
   "cell_type": "code",
   "execution_count": 9,
   "metadata": {},
   "outputs": [],
   "source": [
    "import pandas as pd\n",
    "import datetime as dt \n",
    "from datetime import datetime\n",
    "import os\n"
   ]
  },
  {
   "cell_type": "markdown",
   "metadata": {},
   "source": [
    "\n",
    "- How much stock do we have?\n",
    "- Which stock has the highest price and when it was observed?\n",
    "- Which stock has the lowest price and when it was observed?\n",
    "- Which stock is the most popular in 2021? (has the highest traded volume in 2021)  \n",
    "Now, we have to pick a single stock to act as our prototype.\n",
    "\n",
    "Load the JSON files for the stock of your choice, write code to parse the file, and transform it into a Pandas DataFrame with the following columns:\n",
    "\n",
    "- stock acronym\n",
    "- day (should be extracted from timestamp value in the data)\n",
    "- open - price when the trading opened that day\n",
    "- high - the highest price of the day\n",
    "- close - price when the trading closed that day\n",
    "- low - the lowest price of the day\n",
    "- splits - number of splits of the stock (look for the value splits in the events key of the JSON file).\n",
    "- volume - what was the value of shares traded on that day  \n",
    "These columns will help us answer the questions above.\n",
    "\n",
    "## Step 3: Complete the Tasks Below  \n",
    "### Task 1  \n",
    "Once you are comfortable with your prototype code, put the code into a function. Use the function to fill out the columns in the dataframe for all companies listed on the NASDAQ in 2020.\n",
    "\n",
    "\n",
    ">Keep in mind that while you are writing the function, you might encounter errors or exceptions that you haven’t encountered during the prototyping process. This is very common, and you will need to write code that can handle these exceptions.\n",
    "\n",
    "### Task 2\n",
    "Now, it’s time to do some EDA. Answer the following questions.\n",
    "\n",
    "- How big is the DataFrame (shape)?\n",
    "- How much stock do we have?\n",
    "- Which stock has the highest price and when it was observed?\n",
    "- Which stock has the lowest price and when it was observed?\n",
    "- Which stock is the most popular in 2021? (has the highest traded volume in 2021)\n",
    "\n",
    "### Task 3  \n",
    "What else could you answer by doing EDA for this dataset?"
   ]
  },
  {
   "cell_type": "code",
   "execution_count": 2,
   "metadata": {},
   "outputs": [
    {
     "data": {
      "text/html": [
       "<div>\n",
       "<style scoped>\n",
       "    .dataframe tbody tr th:only-of-type {\n",
       "        vertical-align: middle;\n",
       "    }\n",
       "\n",
       "    .dataframe tbody tr th {\n",
       "        vertical-align: top;\n",
       "    }\n",
       "\n",
       "    .dataframe thead th {\n",
       "        text-align: right;\n",
       "    }\n",
       "</style>\n",
       "<table border=\"1\" class=\"dataframe\">\n",
       "  <thead>\n",
       "    <tr style=\"text-align: right;\">\n",
       "      <th></th>\n",
       "      <th>chart</th>\n",
       "    </tr>\n",
       "  </thead>\n",
       "  <tbody>\n",
       "    <tr>\n",
       "      <th>error</th>\n",
       "      <td>None</td>\n",
       "    </tr>\n",
       "    <tr>\n",
       "      <th>result</th>\n",
       "      <td>[{'meta': {'currency': 'USD', 'symbol': 'ACHC'...</td>\n",
       "    </tr>\n",
       "  </tbody>\n",
       "</table>\n",
       "</div>"
      ],
      "text/plain": [
       "                                                    chart\n",
       "error                                                None\n",
       "result  [{'meta': {'currency': 'USD', 'symbol': 'ACHC'..."
      ]
     },
     "execution_count": 2,
     "metadata": {},
     "output_type": "execute_result"
    }
   ],
   "source": [
    "# Grab one file to test with first:\n",
    "stock_json = pd.read_json('data/stock_market_data/nasdaq/json/ACHC.json')\n",
    "stock_json"
   ]
  },
  {
   "cell_type": "markdown",
   "metadata": {},
   "source": [
    "find the route through the levels of json hierarchy to access the timestamps:"
   ]
  },
  {
   "cell_type": "code",
   "execution_count": 3,
   "metadata": {},
   "outputs": [
    {
     "data": {
      "text/plain": [
       "[762791400,\n",
       " 763050600,\n",
       " 763137000,\n",
       " 763223400,\n",
       " 763309800,\n",
       " 763396200,\n",
       " 763655400,\n",
       " 763741800,\n",
       " 763828200,\n",
       " 763914600]"
      ]
     },
     "execution_count": 3,
     "metadata": {},
     "output_type": "execute_result"
    }
   ],
   "source": [
    "# Find route path to \"timestamp\":\n",
    "stock_timestamp = stock_json['chart']['result'][0]['timestamp']\n",
    "stock_timestamp[:10]"
   ]
  },
  {
   "cell_type": "code",
   "execution_count": 4,
   "metadata": {},
   "outputs": [
    {
     "data": {
      "text/plain": [
       "6887"
      ]
     },
     "execution_count": 4,
     "metadata": {},
     "output_type": "execute_result"
    }
   ],
   "source": [
    "len(stock_timestamp)"
   ]
  },
  {
   "cell_type": "markdown",
   "metadata": {},
   "source": [
    "Compile an iterable list of all the names of the json files in the folder nasdaq:"
   ]
  },
  {
   "cell_type": "code",
   "execution_count": 5,
   "metadata": {},
   "outputs": [
    {
     "data": {
      "text/plain": [
       "['TCB.json',\n",
       " 'COHR.json',\n",
       " 'SUBK.json',\n",
       " 'AZPN.json',\n",
       " 'YOSN.json',\n",
       " 'MSLI.json',\n",
       " 'PKBK.json',\n",
       " 'ADMP.json',\n",
       " 'VIEWF.json',\n",
       " 'GNCMA.json']"
      ]
     },
     "execution_count": 5,
     "metadata": {},
     "output_type": "execute_result"
    }
   ],
   "source": [
    "# Create list of filenames in directory using os module:\n",
    "stocks = os.listdir('data/stock_market_data/nasdaq/json')\n",
    "stocks[:10]"
   ]
  },
  {
   "cell_type": "code",
   "execution_count": 6,
   "metadata": {},
   "outputs": [
    {
     "name": "stdout",
     "output_type": "stream",
     "text": [
      "2201\n",
      "<class 'list'>\n",
      "<class 'str'>\n"
     ]
    },
    {
     "data": {
      "text/plain": [
       "['AAL.json',\n",
       " 'AAME.json',\n",
       " 'AAOI.json',\n",
       " 'AAON.json',\n",
       " 'AAPL.json',\n",
       " 'AAVL.json',\n",
       " 'AAWW.json',\n",
       " 'ABAC.json',\n",
       " 'ABCB.json']"
      ]
     },
     "execution_count": 6,
     "metadata": {},
     "output_type": "execute_result"
    }
   ],
   "source": [
    "print(len(stocks))\n",
    "print(type(stocks))\n",
    "print(type(stocks[1]))\n",
    "sorted(stocks)[1:10]"
   ]
  },
  {
   "cell_type": "markdown",
   "metadata": {},
   "source": [
    "awesome.  I'll set that aside for a bit.\n",
    "\n",
    "Now working with just a test sample first:"
   ]
  },
  {
   "cell_type": "code",
   "execution_count": 40,
   "metadata": {},
   "outputs": [],
   "source": [
    "def json_df(stock_json)  # Dynamic stamp-length formula for stock_json\n",
    "  num_of_timestamps = len(stock_json['chart']['result'][0]['timestamp'])\n",
    "\n",
    "  my_dict = {\n",
    "    'stock': [] #stock_acronym\n",
    "    , 'day': [] #day\n",
    "    , 'open_price': [] #open_price\n",
    "    , 'high_price': [] #high_price\n",
    "    , 'close_price': [] #close_price\n",
    "    , 'low_price': [] #low_price\n",
    "    , 'volume': [] #volume\n",
    "    , 'splits': [] #splits\n",
    "  }\n",
    "\n",
    "  for stamp_index in range(num_of_timestamps):\n",
    "    # Convert timestamp to date:\n",
    "    day = stock_json['chart']['result'][0]['timestamp'][stamp_index]\n",
    "    my_dict['day'].append(dt.datetime.fromtimestamp(day).strftime('%Y-%m-%d'))\n",
    "\n",
    "    # Collect stock_acronym\n",
    "    my_dict['stock'].append(stock_json['chart']['result'][0]['meta']['symbol'])\n",
    "\n",
    "    # From the 'quote' section:\n",
    "    # Collect open_price\n",
    "    my_dict['open_price'].append(stock_json['chart']['result'][0]['indicators']['quote'][0]['open'][stamp_index])\n",
    "    # Collect high_price\n",
    "    my_dict['high_price'].append(stock_json['chart']['result'][0]['indicators']['quote'][0]['high'][stamp_index])\n",
    "    # Collect close_price\n",
    "    my_dict['close_price'].append(stock_json['chart']['result'][0]['indicators']['quote'][0]['close'][stamp_index])\n",
    "    # Collect low_price\n",
    "    my_dict['low_price'].append(stock_json['chart']['result'][0]['indicators']['quote'][0]['low'][stamp_index])\n",
    "    # Collect volume\n",
    "    my_dict['volume'].append(stock_json['chart']['result'][0]['indicators']['quote'][0]['volume'][stamp_index])\n",
    "\n",
    "    # Collect splits where exists:\n",
    "    if 'events' in stock_json['chart']['result'][0]:\n",
    "      if 'splits' in stock_json['chart']['result'][0]['events']:\n",
    "        my_dict['splits'].append(len(stock_json['chart']['result'][0]['events']['splits']))\n",
    "\n",
    "\n",
    "    df = pd.DataFrame.from_dict((my_dict))\n",
    "    return df\n",
    "\n",
    "    "
   ]
  },
  {
   "cell_type": "code",
   "execution_count": 41,
   "metadata": {},
   "outputs": [
    {
     "data": {
      "text/plain": [
       "dict_keys(['stock', 'day', 'open_price', 'high_price', 'close_price', 'low_price', 'volume', 'splits'])"
      ]
     },
     "execution_count": 41,
     "metadata": {},
     "output_type": "execute_result"
    }
   ],
   "source": [
    "my_dict.keys()"
   ]
  },
  {
   "cell_type": "code",
   "execution_count": 42,
   "metadata": {},
   "outputs": [
    {
     "data": {
      "text/html": [
       "<div>\n",
       "<style scoped>\n",
       "    .dataframe tbody tr th:only-of-type {\n",
       "        vertical-align: middle;\n",
       "    }\n",
       "\n",
       "    .dataframe tbody tr th {\n",
       "        vertical-align: top;\n",
       "    }\n",
       "\n",
       "    .dataframe thead th {\n",
       "        text-align: right;\n",
       "    }\n",
       "</style>\n",
       "<table border=\"1\" class=\"dataframe\">\n",
       "  <thead>\n",
       "    <tr style=\"text-align: right;\">\n",
       "      <th></th>\n",
       "      <th>stock</th>\n",
       "      <th>day</th>\n",
       "      <th>open_price</th>\n",
       "      <th>high_price</th>\n",
       "      <th>close_price</th>\n",
       "      <th>low_price</th>\n",
       "      <th>volume</th>\n",
       "      <th>splits</th>\n",
       "    </tr>\n",
       "  </thead>\n",
       "  <tbody>\n",
       "    <tr>\n",
       "      <th>0</th>\n",
       "      <td>ACHC</td>\n",
       "      <td>1994-03-04</td>\n",
       "      <td>24.0</td>\n",
       "      <td>24.000</td>\n",
       "      <td>24.000</td>\n",
       "      <td>22.875</td>\n",
       "      <td>17950</td>\n",
       "      <td>1</td>\n",
       "    </tr>\n",
       "    <tr>\n",
       "      <th>1</th>\n",
       "      <td>ACHC</td>\n",
       "      <td>1994-03-07</td>\n",
       "      <td>23.5</td>\n",
       "      <td>25.375</td>\n",
       "      <td>25.375</td>\n",
       "      <td>23.500</td>\n",
       "      <td>68100</td>\n",
       "      <td>1</td>\n",
       "    </tr>\n",
       "    <tr>\n",
       "      <th>2</th>\n",
       "      <td>ACHC</td>\n",
       "      <td>1994-03-08</td>\n",
       "      <td>24.5</td>\n",
       "      <td>25.250</td>\n",
       "      <td>24.750</td>\n",
       "      <td>24.000</td>\n",
       "      <td>9250</td>\n",
       "      <td>1</td>\n",
       "    </tr>\n",
       "    <tr>\n",
       "      <th>3</th>\n",
       "      <td>ACHC</td>\n",
       "      <td>1994-03-09</td>\n",
       "      <td>24.0</td>\n",
       "      <td>24.000</td>\n",
       "      <td>24.000</td>\n",
       "      <td>24.000</td>\n",
       "      <td>125</td>\n",
       "      <td>1</td>\n",
       "    </tr>\n",
       "    <tr>\n",
       "      <th>4</th>\n",
       "      <td>ACHC</td>\n",
       "      <td>1994-03-10</td>\n",
       "      <td>24.0</td>\n",
       "      <td>24.500</td>\n",
       "      <td>24.500</td>\n",
       "      <td>24.000</td>\n",
       "      <td>14375</td>\n",
       "      <td>1</td>\n",
       "    </tr>\n",
       "  </tbody>\n",
       "</table>\n",
       "</div>"
      ],
      "text/plain": [
       "  stock         day  open_price  high_price  close_price  low_price  volume  \\\n",
       "0  ACHC  1994-03-04        24.0      24.000       24.000     22.875   17950   \n",
       "1  ACHC  1994-03-07        23.5      25.375       25.375     23.500   68100   \n",
       "2  ACHC  1994-03-08        24.5      25.250       24.750     24.000    9250   \n",
       "3  ACHC  1994-03-09        24.0      24.000       24.000     24.000     125   \n",
       "4  ACHC  1994-03-10        24.0      24.500       24.500     24.000   14375   \n",
       "\n",
       "   splits  \n",
       "0       1  \n",
       "1       1  \n",
       "2       1  \n",
       "3       1  \n",
       "4       1  "
      ]
     },
     "execution_count": 42,
     "metadata": {},
     "output_type": "execute_result"
    }
   ],
   "source": [
    "df.head()"
   ]
  },
  {
   "cell_type": "code",
   "execution_count": 7,
   "metadata": {},
   "outputs": [
    {
     "data": {
      "text/plain": [
       "['AAL.json', 'AAME.json', 'AAOI.json', 'AAON.json']"
      ]
     },
     "execution_count": 7,
     "metadata": {},
     "output_type": "execute_result"
    }
   ],
   "source": [
    "sorted(stocks)[1:5]"
   ]
  },
  {
   "cell_type": "code",
   "execution_count": 10,
   "metadata": {},
   "outputs": [],
   "source": [
    "my_stocks = []\n",
    "stock_name_list = []\n",
    "\n",
    "for i in sorted(stocks)[1:]:\n",
    "  stock = f'stock_{i[:-5]}'\n",
    "  stock_name = f'{i[:-5]}'\n",
    "\n",
    "  my_stocks.append(stock)\n",
    "  stock_name_list.append(stock_name)"
   ]
  },
  {
   "cell_type": "code",
   "execution_count": 11,
   "metadata": {},
   "outputs": [
    {
     "name": "stdout",
     "output_type": "stream",
     "text": [
      "['stock_AAL', 'stock_AAME', 'stock_AAOI', 'stock_AAON', 'stock_AAPL', 'stock_AAVL', 'stock_AAWW', 'stock_ABAC', 'stock_ABCB', 'stock_ABCD']\n",
      "['AAL', 'AAME', 'AAOI', 'AAON', 'AAPL', 'AAVL', 'AAWW', 'ABAC', 'ABCB', 'ABCD']\n"
     ]
    }
   ],
   "source": [
    "print(my_stocks[:10])\n",
    "print(stock_name_list[:10])"
   ]
  },
  {
   "cell_type": "code",
   "execution_count": 12,
   "metadata": {},
   "outputs": [],
   "source": [
    "stocks_dict = {}"
   ]
  },
  {
   "cell_type": "code",
   "execution_count": 15,
   "metadata": {},
   "outputs": [],
   "source": [
    "num_of_stocks = len(stock_name_list)\n",
    "\n",
    "# for i in range(num_of_stocks):\n",
    "for i in range(10):\n",
    "  stocks_dict.append(stock_name[i], pd.read_json(f'data/stock_market_data/nasdaq/json/{stocks[i]}'))\n"
   ]
  },
  {
   "cell_type": "code",
   "execution_count": 1,
   "metadata": {},
   "outputs": [],
   "source": [
    "# # find a way to separate out the 2020 files\n",
    "# maybe ['chart']['result'][0]['meta']['regularMarketTime']\n",
    "# convert to date separate by year?"
   ]
  },
  {
   "cell_type": "code",
   "execution_count": 10,
   "metadata": {},
   "outputs": [
    {
     "data": {
      "text/html": [
       "<div>\n",
       "<style scoped>\n",
       "    .dataframe tbody tr th:only-of-type {\n",
       "        vertical-align: middle;\n",
       "    }\n",
       "\n",
       "    .dataframe tbody tr th {\n",
       "        vertical-align: top;\n",
       "    }\n",
       "\n",
       "    .dataframe thead th {\n",
       "        text-align: right;\n",
       "    }\n",
       "</style>\n",
       "<table border=\"1\" class=\"dataframe\">\n",
       "  <thead>\n",
       "    <tr style=\"text-align: right;\">\n",
       "      <th></th>\n",
       "      <th>chart</th>\n",
       "    </tr>\n",
       "  </thead>\n",
       "  <tbody>\n",
       "    <tr>\n",
       "      <th>error</th>\n",
       "      <td>None</td>\n",
       "    </tr>\n",
       "    <tr>\n",
       "      <th>result</th>\n",
       "      <td>[{'meta': {'currency': 'USD', 'symbol': 'ACHC'...</td>\n",
       "    </tr>\n",
       "  </tbody>\n",
       "</table>\n",
       "</div>"
      ],
      "text/plain": [
       "                                                    chart\n",
       "error                                                None\n",
       "result  [{'meta': {'currency': 'USD', 'symbol': 'ACHC'..."
      ]
     },
     "execution_count": 10,
     "metadata": {},
     "output_type": "execute_result"
    }
   ],
   "source": [
    "stock_json = pd.read_json('data/stock_market_data/nasdaq/json/ACHC.json')\n",
    "stock_json"
   ]
  },
  {
   "cell_type": "code",
   "execution_count": 14,
   "metadata": {},
   "outputs": [
    {
     "name": "stdout",
     "output_type": "stream",
     "text": [
      "4\n"
     ]
    }
   ],
   "source": [
    "stock_result = stock_json.iloc[1, 0]\n",
    "print(len(stock_result[0]))\n",
    "# stock_result[0]"
   ]
  },
  {
   "cell_type": "code",
   "execution_count": 53,
   "metadata": {},
   "outputs": [
    {
     "data": {
      "text/plain": [
       "Index(['timestamp', 'meta.currency', 'meta.symbol', 'meta.exchangeName',\n",
       "       'meta.instrumentType', 'meta.firstTradeDate', 'meta.regularMarketTime',\n",
       "       'meta.gmtoffset', 'meta.timezone', 'meta.exchangeTimezoneName',\n",
       "       'meta.regularMarketPrice', 'meta.chartPreviousClose', 'meta.priceHint',\n",
       "       'meta.currentTradingPeriod.pre.timezone',\n",
       "       'meta.currentTradingPeriod.pre.start',\n",
       "       'meta.currentTradingPeriod.pre.end',\n",
       "       'meta.currentTradingPeriod.pre.gmtoffset',\n",
       "       'meta.currentTradingPeriod.regular.timezone',\n",
       "       'meta.currentTradingPeriod.regular.start',\n",
       "       'meta.currentTradingPeriod.regular.end',\n",
       "       'meta.currentTradingPeriod.regular.gmtoffset',\n",
       "       'meta.currentTradingPeriod.post.timezone',\n",
       "       'meta.currentTradingPeriod.post.start',\n",
       "       'meta.currentTradingPeriod.post.end',\n",
       "       'meta.currentTradingPeriod.post.gmtoffset', 'meta.dataGranularity',\n",
       "       'meta.range', 'meta.validRanges', 'events.splits.1320154200.date',\n",
       "       'events.splits.1320154200.numerator',\n",
       "       'events.splits.1320154200.denominator',\n",
       "       'events.splits.1320154200.splitRatio', 'indicators.quote',\n",
       "       'indicators.adjclose'],\n",
       "      dtype='object')"
      ]
     },
     "execution_count": 53,
     "metadata": {},
     "output_type": "execute_result"
    }
   ],
   "source": [
    "stock_result_df = pd.json_normalize(stock_result[0])\n",
    "stock_result_list = stock_result_df.columns\n",
    "stock_result_list"
   ]
  },
  {
   "cell_type": "markdown",
   "metadata": {},
   "source": [
    "i don't think this is useful..."
   ]
  },
  {
   "cell_type": "code",
   "execution_count": 38,
   "metadata": {},
   "outputs": [
    {
     "data": {
      "text/plain": [
       "dict_keys(['meta', 'timestamp', 'events', 'indicators'])"
      ]
     },
     "execution_count": 38,
     "metadata": {},
     "output_type": "execute_result"
    }
   ],
   "source": [
    "stock_result[0].keys()"
   ]
  },
  {
   "cell_type": "code",
   "execution_count": 60,
   "metadata": {},
   "outputs": [
    {
     "data": {
      "text/plain": [
       "dict_keys(['quote', 'adjclose'])"
      ]
     },
     "execution_count": 60,
     "metadata": {},
     "output_type": "execute_result"
    }
   ],
   "source": [
    "stock_ind = stock_result[0]['indicators']\n",
    "stock_ind.keys()"
   ]
  },
  {
   "cell_type": "code",
   "execution_count": 61,
   "metadata": {},
   "outputs": [
    {
     "data": {
      "text/plain": [
       "dict_keys(['open', 'close', 'volume', 'low', 'high'])"
      ]
     },
     "execution_count": 61,
     "metadata": {},
     "output_type": "execute_result"
    }
   ],
   "source": [
    "stock_quote = stock_result[0]['indicators']['quote'][0]\n",
    "stock_quote.keys()"
   ]
  },
  {
   "cell_type": "code",
   "execution_count": 64,
   "metadata": {},
   "outputs": [
    {
     "data": {
      "text/html": [
       "<div>\n",
       "<style scoped>\n",
       "    .dataframe tbody tr th:only-of-type {\n",
       "        vertical-align: middle;\n",
       "    }\n",
       "\n",
       "    .dataframe tbody tr th {\n",
       "        vertical-align: top;\n",
       "    }\n",
       "\n",
       "    .dataframe thead th {\n",
       "        text-align: right;\n",
       "    }\n",
       "</style>\n",
       "<table border=\"1\" class=\"dataframe\">\n",
       "  <thead>\n",
       "    <tr style=\"text-align: right;\">\n",
       "      <th></th>\n",
       "      <th>0</th>\n",
       "    </tr>\n",
       "  </thead>\n",
       "  <tbody>\n",
       "    <tr>\n",
       "      <th>0</th>\n",
       "      <td>24.0</td>\n",
       "    </tr>\n",
       "    <tr>\n",
       "      <th>1</th>\n",
       "      <td>23.5</td>\n",
       "    </tr>\n",
       "    <tr>\n",
       "      <th>2</th>\n",
       "      <td>24.5</td>\n",
       "    </tr>\n",
       "    <tr>\n",
       "      <th>3</th>\n",
       "      <td>24.0</td>\n",
       "    </tr>\n",
       "    <tr>\n",
       "      <th>4</th>\n",
       "      <td>24.0</td>\n",
       "    </tr>\n",
       "  </tbody>\n",
       "</table>\n",
       "</div>"
      ],
      "text/plain": [
       "      0\n",
       "0  24.0\n",
       "1  23.5\n",
       "2  24.5\n",
       "3  24.0\n",
       "4  24.0"
      ]
     },
     "execution_count": 64,
     "metadata": {},
     "output_type": "execute_result"
    }
   ],
   "source": [
    "open_price = pd.json_normalize(stock_quote, record_path='open')\n",
    "open_price.head()"
   ]
  },
  {
   "cell_type": "markdown",
   "metadata": {},
   "source": [
    "```py\n",
    "pd.json_normalize(data, \"A\", record_prefix=\"Prefix.\")\n",
    "```"
   ]
  },
  {
   "cell_type": "code",
   "execution_count": null,
   "metadata": {},
   "outputs": [],
   "source": [
    "close_price = pd.json_normalize(stock_quote, record_path='close')\n",
    "close_price.head()"
   ]
  },
  {
   "cell_type": "code",
   "execution_count": null,
   "metadata": {},
   "outputs": [],
   "source": []
  },
  {
   "cell_type": "code",
   "execution_count": null,
   "metadata": {},
   "outputs": [],
   "source": [
    "value_traded_qday = pd.json_normalize(stock_quote, record_path='volume')\n",
    "value_traded_qday.head()"
   ]
  },
  {
   "cell_type": "code",
   "execution_count": null,
   "metadata": {},
   "outputs": [],
   "source": []
  }
 ],
 "metadata": {
  "kernelspec": {
   "display_name": "Python 3 (ipykernel)",
   "language": "python",
   "name": "python3"
  },
  "language_info": {
   "codemirror_mode": {
    "name": "ipython",
    "version": 3
   },
   "file_extension": ".py",
   "mimetype": "text/x-python",
   "name": "python",
   "nbconvert_exporter": "python",
   "pygments_lexer": "ipython3",
   "version": "3.9.12"
  },
  "vscode": {
   "interpreter": {
    "hash": "39512f3c2a1741d7f752d45a133d4514127029333ea14bc2f3c6c5e6759b9029"
   }
  }
 },
 "nbformat": 4,
 "nbformat_minor": 4
}
